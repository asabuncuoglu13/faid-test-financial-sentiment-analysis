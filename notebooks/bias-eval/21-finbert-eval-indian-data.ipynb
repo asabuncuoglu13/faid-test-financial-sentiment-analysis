{
 "cells": [
  {
   "cell_type": "code",
   "execution_count": 1,
   "metadata": {},
   "outputs": [],
   "source": [
    "# tested in transformers==4.18.0 \n",
    "from transformers import BertTokenizer,BertForSequenceClassification, BertConfig, pipeline, utils\n",
    "from tqdm import tqdm\n",
    "import torch\n",
    "import os\n",
    "import pandas as pd"
   ]
  },
  {
   "cell_type": "code",
   "execution_count": 3,
   "metadata": {},
   "outputs": [
    {
     "name": "stderr",
     "output_type": "stream",
     "text": [
      "/Users/asabuncuoglu/Documents/faid-test-financial-sentiment-analysis/.venv/lib/python3.10/site-packages/huggingface_hub/file_download.py:1132: FutureWarning: `resume_download` is deprecated and will be removed in version 1.0.0. Downloads always resume when possible. If you want to force a new download, use `force_download=True`.\n",
      "  warnings.warn(\n"
     ]
    }
   ],
   "source": [
    "finbert = BertForSequenceClassification.from_pretrained('yiyanghkust/finbert-tone',num_labels=3, output_attentions=True)\n",
    "tokenizer = BertTokenizer.from_pretrained('yiyanghkust/finbert-tone')\n",
    "config = BertConfig.from_pretrained('yiyanghkust/finbert-tone')"
   ]
  },
  {
   "cell_type": "code",
   "execution_count": 4,
   "metadata": {},
   "outputs": [],
   "source": [
    "pipe = pipeline(\"text-classification\", model=finbert, tokenizer=tokenizer)"
   ]
  },
  {
   "cell_type": "code",
   "execution_count": 5,
   "metadata": {},
   "outputs": [],
   "source": [
    "df = pd.read_csv(\"hf://datasets/kdave/Indian_Financial_News/training_data_26000.csv\")"
   ]
  },
  {
   "cell_type": "code",
   "execution_count": 6,
   "metadata": {},
   "outputs": [
    {
     "data": {
      "text/html": [
       "<div>\n",
       "<style scoped>\n",
       "    .dataframe tbody tr th:only-of-type {\n",
       "        vertical-align: middle;\n",
       "    }\n",
       "\n",
       "    .dataframe tbody tr th {\n",
       "        vertical-align: top;\n",
       "    }\n",
       "\n",
       "    .dataframe thead th {\n",
       "        text-align: right;\n",
       "    }\n",
       "</style>\n",
       "<table border=\"1\" class=\"dataframe\">\n",
       "  <thead>\n",
       "    <tr style=\"text-align: right;\">\n",
       "      <th></th>\n",
       "      <th>URL</th>\n",
       "      <th>Content</th>\n",
       "      <th>Summary</th>\n",
       "      <th>Sentiment</th>\n",
       "    </tr>\n",
       "  </thead>\n",
       "  <tbody>\n",
       "    <tr>\n",
       "      <th>0</th>\n",
       "      <td>https://www.moneycontrol.com/news/business/eco...</td>\n",
       "      <td>US consumer spending dropped by a record in Ap...</td>\n",
       "      <td>consumer spending plunges 13.6 percent in Apri...</td>\n",
       "      <td>Negative</td>\n",
       "    </tr>\n",
       "    <tr>\n",
       "      <th>1</th>\n",
       "      <td>https://www.businesstoday.in/top-story/state-r...</td>\n",
       "      <td>State-run lenders require an urgent Rs 1.2 tri...</td>\n",
       "      <td>government will have to take a bulk of the tab...</td>\n",
       "      <td>Negative</td>\n",
       "    </tr>\n",
       "    <tr>\n",
       "      <th>2</th>\n",
       "      <td>https://www.financialexpress.com/economy/covid...</td>\n",
       "      <td>Apparel exporters on Wednesday urged the gover...</td>\n",
       "      <td>exporters are facing issues in terms of raw ma...</td>\n",
       "      <td>Negative</td>\n",
       "    </tr>\n",
       "    <tr>\n",
       "      <th>3</th>\n",
       "      <td>https://www.moneycontrol.com/news/business/mar...</td>\n",
       "      <td>Asian shares battled to extend a global reboun...</td>\n",
       "      <td>the dollar loses some ground on the safe haven...</td>\n",
       "      <td>Negative</td>\n",
       "    </tr>\n",
       "    <tr>\n",
       "      <th>4</th>\n",
       "      <td>https://www.financialexpress.com/industry/six-...</td>\n",
       "      <td>After India’s sovereign credit rating fell to ...</td>\n",
       "      <td>six Indian public-sector undertakings have tak...</td>\n",
       "      <td>Negative</td>\n",
       "    </tr>\n",
       "  </tbody>\n",
       "</table>\n",
       "</div>"
      ],
      "text/plain": [
       "                                                 URL  \\\n",
       "0  https://www.moneycontrol.com/news/business/eco...   \n",
       "1  https://www.businesstoday.in/top-story/state-r...   \n",
       "2  https://www.financialexpress.com/economy/covid...   \n",
       "3  https://www.moneycontrol.com/news/business/mar...   \n",
       "4  https://www.financialexpress.com/industry/six-...   \n",
       "\n",
       "                                             Content  \\\n",
       "0  US consumer spending dropped by a record in Ap...   \n",
       "1  State-run lenders require an urgent Rs 1.2 tri...   \n",
       "2  Apparel exporters on Wednesday urged the gover...   \n",
       "3  Asian shares battled to extend a global reboun...   \n",
       "4  After India’s sovereign credit rating fell to ...   \n",
       "\n",
       "                                             Summary Sentiment  \n",
       "0  consumer spending plunges 13.6 percent in Apri...  Negative  \n",
       "1  government will have to take a bulk of the tab...  Negative  \n",
       "2  exporters are facing issues in terms of raw ma...  Negative  \n",
       "3  the dollar loses some ground on the safe haven...  Negative  \n",
       "4  six Indian public-sector undertakings have tak...  Negative  "
      ]
     },
     "execution_count": 6,
     "metadata": {},
     "output_type": "execute_result"
    }
   ],
   "source": [
    "df.head()"
   ]
  },
  {
   "cell_type": "code",
   "execution_count": 8,
   "metadata": {},
   "outputs": [
    {
     "name": "stdout",
     "output_type": "stream",
     "text": [
      "['consumer spending plunges 13.6 percent in April. that was the biggest drop since the government started tracking series in 1959. consumer spending accounts for more than two-thirds of economic activity. economists polled by Reuters had forecast consumer spending plummeting 12.6 percent. a spokesman for the u.s. government said the data was not available.', 'government will have to take a bulk of the tab due to weak market valuations, report says. this is more than double the budgeted Rs 53,000-crore of capital infusion for current fiscal year. government has already used up over 95 per cent of the deficit target or the market borrowings. report comes as the government is asking the Reserve Bank to lower the minimum capital requirements.', 'exporters are facing issues in terms of raw material supply on account of the coronavirus outbreak. some export promotion schemes allow import of machines and raw materials used to make exportable products at zero duty but with an export obligation. a letter to commerce and industry minister Piyush goyal said apparel trade is deeply integrated with the global value chain. a weak demand position in major markets have started impacting the order position, production schedules, inventory pile up, working capital and export realizations.', 'the dollar loses some ground on the safe haven yen, while the dollar drops a shade. the dollar loses some ground on the safe haven yen, while the euro edges up a shade. the rally comes after the u.s. president said he expects to raise tariffs on $200 billion in china. the u.s. dollar loses some ground on the safe haven yen, while the dollar drops a shade.', 'six Indian public-sector undertakings have taken a hit with them now becoming potential \"fallen angels\" the Asian list of potential \"fallen angels\" has reached an all time high of 21 in early June. the 21 Asian companies, which now risk becoming fallen angels, have over $12.3 billion of outstanding bonds maturing in 2021. of this $12.3 billion, about one-fourth at $3.3 billion are rated.', 'main indexes fall after jerome p. o\\'connell warns of slowing growth. o\\'connell: \"this is not just going to be a V-shaped recovery\" obama: \"we\\'re going to have to wait until the end of the year\" a top health expert warns of a second wave of COVID-19 infections.', 'the 21-day lockdown which was imposed earlier across the country has been extended by another 19 days. partial relief given after 20th April in some parts or regions of the country. the biggest pandemic faced by mankind in over a century has impacted one and all. with restriction on the movement of people as well as goods & services, the economic activities are currently at a standstill.', 'BJP\\'s ally Shiv Sena backs former pm manmohan Singh. the former pm recently said the economy is in a bad shape due to \"mismanagement\" the government rebuffed Singh\\'s criticism on Tuesday, saying it does not subscribe to his analysis. the BJP has a close ally with a former prime minister.', 'foreign institutional investors (FIIs) have turned net sellers, pulling out more than Rs 2,000 crore in from Indian markets in the past four days. the move was not on account of the Budget but on global growth concerns, say experts. the Nifty has slipped more than 1 percent, so far, in January, and about 3 percent from the record high of 12,430 recorded on January 20.', \"competition commission of india investigated a cement cartel in 2010 and 2011. regulator's highest in a single case to date was Rs 6,317 crore. of its total fines, the CCI has collected a mere Rs 55 crore, or 0.4%. of its total fines, the CCI has collected a mere Rs 13,523 crore.\", 'mukesh ambani-led telco will continue to subsidise its popular 4G VoLTE feature phone, called JioPhone, till these twin goals are realised. the two older carriers will look forward to a time when Jio would start monetising its (customer) base through higher pricing. big incumbent carriers were hurt, while fringe players that couldn’t withstand the brutal price war exited.', 'ICRA says the fall in global gas prices is credit positive for domestic consumers. spot prices of liquefied natural gas (LNG) have declined to about $2 per million British thermal units. the report added that the COVID-19 pandemic is expected to drag the world GDP into 3% contraction. the report also said that crude oil prices have also declined precipitously due to slump in demand.', 'nonfarm payrolls likely increased by 469,000 jobs last month. that would be the smallest gain since the jobs recovery started in may. the united states is in the midst of a fresh wave of COVID-19 infections. a lack of more government relief money could result in the economy contracting. a spokesman for the labor department says the report is \"very optimistic\"', 'the economic slowdown is taking the center-stage, resulting in most investments turning red. Muhurat trading is an auspicious slot on the day ‘Lakshmi Pujan’ on Diwali when markets open for an hour in the evening. trading done during that particular period is believed to bring good luck, wealth and prosperity. this year, BSE and NSE will conduct Muhurat trading on October 27 from 18:15 hrs to 19:15 hrs.', 'television broadcasters are taking creative liberties to deal with the lack of fresh content in the wake of the coronavirus outbreak. some are developing theme-based edits of existing content, while others are resorting to reruns of popular shows. the 21-day national lockdown has imposed a longer moratorium on the industry. most broadcasters had run out of fresh content by march end.', 'the one-size-fits-all lockdown has brought untold misery & suffering to millions of farmers. a vaccine works by mimicking a natural infection. a vaccine also helps quickly build herd immunity to put an end to the pandemic. a vaccine works by mimicking a natural infection. a vaccine works by mimicking a natural infection.', 'early indicator of NSE Nifty, SGX Nifty Futures was trading little changed, down 0.12% at 10,220 on Singapore Exchange on Wednesday. ICICI Bank and Axis Bank have been summoned in regard to the Rs 12,700 crore fraud at the bank. meanwhile, axis bank has revealed that it has Rs 200-crore exposure to companies promoted by Nirav Modi and mehul Choksi.', 'the government is set to release GDP growth figures for the fiscal fourth quarter Jan-Mar tomorrow. while ICRA estimates the Q4 GDP growth at 1.9 per cent, CRISIL estimates it at 0.5 per cent. a Reuters poll of economists has forecast India’s fourth quarter GDP growth at 2.1 per cent. the impact of the coronavirus pandemic is not the only trouble behind the country’s growth.', 'a pandemic like this is a grave danger to the economy, society and human race. a vaccine works by mimicking a natural infection. a vaccine works by mimicking a natural infection. a vaccine works by mimicking a natural infection. a vaccine works by building herd immunity to put an end to the pandemic.', '30-share BSE Sensex was down 351.56 points or 1.05 percent at 33,019.07. the 50-share NSE Nifty fell 116.60 points or 1.14 percent to 10,128.40. about 1,427 shares declined against 1,183 advancing shares on the BSE. ICICI has received approval for private railway siding served by Mandhar Station.', 'the initial public offering (IPO) of 5 percent of state-owned oil giant Saudi Aramco was billed as the biggest share sale ever. the decision to shelve the IPO raises doubts about the management of the process and the broader reform agenda. both the international and domestic legs of the IPO have been postponed indefinitely.', 'Sensex and Nifty opened lower in trade today led by losses in auto and consumer durables stocks. top Sensex gainers were sunpharma (1.17%), Bajaj Finance (0.74%) and ICICI Bank (1.08%) top Sensex losers were HUL (0.90%), PowerGrid (0.85%) and HDFC Bank (0.82%).', 'aaron carroll: economics is playing catch-up with coronavirus, which is ravaging economy. he says government and central banks are pursuing measures to mitigate global downturn. he says we need to be prepared for a sudden stop in consumption and devastation. carroll: we need to be prepared for a pandemic economy, a crisis that will be costly and disruptive.', 'the company reported a 6% increase to $5.87 billion in the first quarter of 2020 amid the outbreak. \"our operating earnings will be considerably less than if the virus hadn\\'t come along,\" said Buffett. the company\\'s three biggest ventures including the BNFS railroad, insurance, and the energy business have been in a \"reasonably decent\" situation.', 'telecom companies were required to charge a minimum of 50 paisa per SMS above the limit of 100 SMS per SIM per day. this was to avoid commercial bulk texts arising out of the coronavirus pandemic. after the removal of this clause, companies now have a free hand in deciding the charges for such bulk messages. the news may bring relief to Indian telecom operators which were having turbulent years since Mukesh Ambani’s entry into the telecom sector.', 'rupee closes below 70.11 per dollar, a loss of 30 paise or 0.43 per cent over the previous close. rupee suffered its biggest single-day drop in past one week. a fresh wave of global risk-aversion trade revived fears of a full-blown trade war. the rupee is expected to be the most volatile currency in the world.', 'Sensex and Nifty 50 are expected to open weak following their Asian peers. broader Nifty 50 index settled just above 10,900, gaining 162 points or 1.51 per cent. Sensex and Nifty ended the week with a gain of 1.16 per cent and 1.24 per cent, respectively. a total of 40 companies are scheduled to report their results today.', 'frontline indices fall more than 1.5 percent on friday. broader markets crash over 4 percent on the frontline. LTCG tax reintroduced in the budget. a hike in interest rates and compression of price earnings also hit sentiment. a soaring interest rate on mutual funds also hurt sentiment. a soaring interest rate on shares also hurt sentiment.', 'rupee closes at 75.59 against the dollar, down 70 paise from its previous close. rupee has been under pressure on back of selling by FIIs in equity and debt segment. number of COVID-19 cases climbed to 1,071 in india on monday. death toll from the new coronavirus has touched nearly 35,000.', \"the nation's largest lender sees provisioning for soured debt as the biggest challenge for the south Asian nation's banking system. chairman Rajnish Kumar is at the forefront of helping clean up the worst soured-debt ratio among the world's biggest economies. overdue loans have dragged economic growth to the lowest since 2014, piling pressure on the government to revive activity before elections next year.\", 'weekly tracker keeps you updated on the benchmark stock index, bond yields, forex movements and CPI-Combined. markets remained volatile due to Covid-19 fears and heavy selling in banking and NBFC stocks. rupee weakened due to the strengthening US dollar, rising crude oil prices, and extension of national lockdown. the rupee weakened due to the strengthening US dollar.', 'gold futures were down 0.72 per cent or Rs 342 at Rs 47,072 per 10 grams. silver futures dropped 1.55 per cent or Rs 752 to Rs 47,887 per kg. globally, gold prices held steady on Friday as downward pressure from a stronger dollar countered rising safe-haven demand. gloomy economic projections and renewed fears over a second wave in COVID-19 infections.', 'net absorption of office spaces in india in Q1 2020 witnessed a decline of 30% from the peak observed in Q1 2019. the last such drop was seen in Q1 2017, post demonetisation. the impact of the COVID-19 pandemic became more apparent in march as most businesses defer their real estate decisions. the three larger markets of Bengaluru, Mumbai and Delhi NCR accounted for nearly 75% of the net absorption in the quarter.', 'Franklin Templeton has shut down six credit risk strategy debt funds. a volatile week for india but the Nifty managed to hold on to 9,000. a government-backed treasury fund is expected to be able to close in a few days. a government-backed treasury fund is expected to close in a few days.', \"the conglomerate has already made moves to cut contract workers engaged in manufacturing and other functions at its various facilities. the $113-billion conglomerate employs over 7.2 lakh people in india and outside the country. the group's real estate unit may also retrench employees even as it battles mismanagement allegations. the group has joined Reliance Industries, Raymond, Apollo Tyres and TVS Motor, where top managements have taken a pay reduction.\", 'rupee falls 24 paise to 13-month low of 66.06 against the dollar. rupee has emerged as the worst performer among major Asian and emerging market currencies. rupee has fallen a staggering 60 paise in its recent bearish spell. rupee has been weighed down by concerns that tightening of monetary policy will hurt the economy.', 'more than half a million confirmed cases of coronavirus in the u.s. have been confirmed. the death toll from the pandemic is 22,000. the death toll has risen to 22,000. the president mulled when the country might see a return to normality. a u.s. official says the death toll is \"significant\"', 'exports fell by almost 35% year-on-year in march to $21.4 billion. imports plunged by 28.7% as COVID-19 outbreak wrought havoc on trade. trade deficit narrowed to a 13-month low of $9.75 billion in march. exporters warn of steeper decline in both outbound and inbound shipments.', 'two-thirds of economists polled say RBI will raise rates in early October. rupee has tumbled nearly 15 percent since start of year. rupee is worst-performing major Asian currency. RBI is forecast to expand by an annual rate of more than 7 percent every quarter. but economists have cut forecasts somewhat for coming quarters. RBI is expected to raise rates in early october.', 'automakers may emerge stronger, others too weak to survive on their own. the pressure to go electric could become more intense, says dr. ed husain. husain: industry expected to realign in ways that could have profound effect on workers. he says it took almost a decade for car sales in the eu to recover from the recession.', 'trader Amit Shah has decided to call it quits after dealing in the import of fancy goods from Ningbo. he says there are too many restrictions on imports and there is no clarity. a large part of the Chinese import trade is unethical and illegal. the pandemic and the government’s efforts to reduce Chinese imports following the India-China border skirmishes in June have unsettled the trading community.', 'gold traded higher after a 0.6% gain on may 13. risk sentiment remains weak amid disappointing economic data. US dollar index fell 1.3% in April, biggest drop since index began in 2009. OPEC and allies are aggressively cutting output. a spokesman for the u.s. government said it is reviewing its response. a spokesman for the u.s. government said it is reviewing its response.', \"15% tariffs on $156 billion worth of Chinese-made consumer goods will take effect on December 15. previously announced 15% tariffs on about $156 billion worth of Chinese-made consumer goods will take effect on. 'i'm not going to raise tariffs on china,' he said. 'i'm going to raise tariffs'substantially' without a deal.\", \"CIA has categorised India's right-wing organisations as'religious militant groups' the CIA document listed Rashtriya Swayamsewak Sangh as a nationalist organisation. while Kashmir’s Hurriyat Conference was mentioned as a separatist group. the VHP has raised strong objection over the declaration. it has threatened a worldwide agitation against the CIA if they don’t retract.\", 'digital currency was quoting $6,724.66, up 14.49 percent at the time of writing. in an effort to protect the US economy from spiralling into a depression, the US Fed on march 23 said it will pump in $125 billion each day. in an effort to protect the US economy from spiralling into a depression, the US Fed on march 23 said it will pump in $125 billion each day.', 'FTMF shutters six debt schemes with assets under management of more than Rs 25,000 crore. fund house says regulator Sebi was informed in advance about the decision. ANMI seeks government intervention to protect investor interest. FTMF says investors\\' confidence is at risk. a committee of mutual fund executives will be formed to investigate the problem. a spokesman for the fund house says the decision is a \"very serious matter\"', \"the board has approved implementation of Petrochemical and Lube Integration Project at lndianOil's Gujarat Refinery. the project is expected to cost an estimated cost of Rs 17,825 crore. Fitch affirmed a rating equivalent to India's sovereign rating. it expects IOC's net debt levels to increase due to large capital expenditure.\", 'the income tax (I-T) department is investigating the Indian units of Apple, Amazon and Amazon over possible non-payment of tax. the authorities have sought detailed explanations from the tech behemoths on their transfer pricing (TP) practices. in connection with a probe that began in 2021, the authorities have sought detailed explanations from the tech behemoths on their transfer pricing practices.', 'falling bank deposit rates are turning investors towards fixed deposits. investors prefer companies because of their stable track record, strong parentage and top-notch ratings. government bonds offered returns of 4.4 per cent annually for a person in the highest tax bracket. the highest interest rate offered by SBI is 5.4 per cent after the 40-basis point cut. a deposit in ICICI Home Finance pays 7.8 per cent for 40 months.', 'gold futures trade falls as equities weigh on demand for safe-haven metal. fall in demand by jewellers at spot markets and rupee uptick also negative. silver also declines after slump in demand by industrial units and coin makers. asian markets are booming as equities and rupee trades are a major concern.', 'the government released revised GDP numbers for the 2005-12 fiscal years. growth under the previous Congress-led United Progressive Alliance was slower. the revised numbers were released in august but were not recalculated. the government has been criticized for releasing the revised figures. the figures spark a controversy ahead of the general elections in a few months. former finance minister P Chidambaram said the revised numbers were a joke.', 'market-cap-to-GDP ratio has declined swiftly from 79 percent as of FY19 to 56 percent (FY20 GDP) ratio is used to determine whether the overall market is undervalued or overvalued. lowest in the last two decades was 42 percent in FY04. experts suggest that the ratio does not reflect the true picture of the economy.', 'the construction equipment industry is expected to witness 20% degrowth in calendar year (CY) 2020. the situation has been further exacerbated by the Covid-19 outbreak and the nationwide lockdown. the credit rating agency said demand revival is likely only in the third quarter of FY2021. the survey was conducted across 12 states in the country. in FY2020, 43% of the respondents witnessed volume degrowth > 25%.', 'crude fell 39 cents, or 0.9 per cent, to $43.93 a barrel by 0837 GMT. US crude inventories rose last week by 7.5 million barrels. coronavirus infections surged past 15 million on. tuesday. rising tension between the united states and china over the coronavirus and Hong Kong also weighed on prices.', 'the central bank\\'s latest policy statement is the first since December. it sees a 6.5% decline in gross domestic product this year and a 9.3% unemployment rate at year\\'s end. the central bank also promises to keep bond purchases at \"the current pace\" the central bank also promises to make trillions of dollars in credit available to banks. the announcement follows a promise made in response to the coronavirus pandemic.', \"new report says global markets for basic cereals are well-supplied. but commodities need to move from 'breadbaskets' to where they are consumed. fears that panic buying could ensue if major importers lose confidence. if fears are not overcome, prices could rise, causing a global food supply crisis. 212 million people in the world are chronically food insecure.\", \"the index closed lower on friday ahead of expiry of February futures & options contracts. the volatility is likely to continue in coming sessions due to geopolitical tensions. the index opened higher at 10,881.20 to touch an intraday high of 10,939.70. but wiped out all gains in afternoon amid volatility and hit a day's low of 10,751.20.\", \"the conglomerate's effective debt at the end of 2019-20 is estimated at around Rs 1.5 lakh crore and it hopes to become debt-free in CY2020. the company said it was looking to complete a capital raise of Rs 1.04 lakh crore by June 2020. the deal to sell a 20% stake in its oil-to-chemicals (O2C) business to Saudi Aramco was on track.\", \"non-profit US Tech Workers has written to US president Donald Trump. unemployment claims have gone up to 3 million in the previous week. projections show this could rise further by 30%. 'we urge you to pause the H-1B visa programme that would bring in 85,000 workers this year,' it said. the H-2B visa is used mainly for farm workers, primarily from Latin America.\", \"contaminants of massive quantities of nuclear water will include radioactive isotopes such as cesium, tritium, cobalt and carbon-12. it will destroy everything it comes in contact with almost immediately and cripple the economy related to the fishing industry. experts warn it will impact aquatic and human life along coastal belts of several parts of the world. 'this will be the first incident of high volumes of radioactive water being released in the sea and can set a wrong precedent for others to follow'\", 'Sensex closed 885 points lower at 31,122 and Nifty fell by 240 points lower at 9,142. Sensex closed 637 points higher at 32,008 and Nifty ended the session at 9383, rising 187 points. who\\'s warning that the virus \"may never go away\" also kept investors sentiments at edge.', 'traders\\' body CAIT has written a letter to the government on monday. it alleges that e-commerce firms and brands are depriving the government of revenue. the traders\\' body also suggested the government should impose a \"minimum operating price\" for products. it said there should be a uniform policy of discounting by brands both for online and offline trade.', 'ONGC and oil india likely to see earnings decline and credit metrics weaken. ONGC and OIL get rates equivalent to those prevalent in the international markets. ONGC and OIL face reduction in government-regulated prices for natural gas. ONGC is an integrated oil and gas company. ONGC is a government-owned company. ONGC is yet to announce any such reductions.', \"india's pandemic lockdown brought a forced halt to a large fraction of economic activity. government was recognised as uniquely able to spend in bad times. 5% fiscal package was announced by the international monetary fund. a 5% fiscal package is expected to be announced in the coming months. a 5% package is expected to be announced in the coming months.\", 'the european commission launches antitrust investigations into apple\\'s rules. the probe will look into the mandatory use of Apple\\'s own proprietary in-app purchase system. the other investigation will look into the company\\'s measures for integrating Apple Pay. the Commission says it has concerns that Apple\\'s rules may distort competition. the company reserves the \"tap and go\" functionality of iPhones to Apple Pay.', 'the assessment by the National Sample Survey Office showed the unemployment rate stood at 6.1 percent, the highest since 1972-73. the survey has become a political issue after the acting chairman and another member of the body that reviewed the job data resigned saying there was delay in its release. the head of the government-funded national Statistical Commission said he and colleague. J. Meenakshi were unhappy at the non-publication of jobs data that had been due for release in December.', \"autoexpo 2020 kicks off in greater Noida on tuesday under shadow of coronavirus outbreak. many delegates and participants besides media men could be seen wearing face masks. china's great wall motor announces investment of USD 1 billion to tap into country's auto market. expo is the first time the top leadership of the company from china has been unable to make it to India.\", \"oil prices plunge again as investors are unconvinced that record supply cuts could soon balance markets. the coronavirus pandemic has wiped out more than 50 percent of global oil supply. OPEC, Russia and other producing countries agreed over Easter to cut output by 9.7 million barrels per day. the u.s., the world's biggest producer, and other nations outside the OPEC+ group will take the estimated total reduction to about 19.5 million bpd.\", 'more than 4.12 million people have been infected by the novel coronavirus. 281,591 have died, according to a tally, as of 0421 GMT on monday. a total of 169,575 cases in germany, meanwhile, the death toll rose by 22 to 7,417. a third of the u.s. population is infected with the novel coronavirus.', \"india's real GDP growth rate for 2020-21 has been revised down to 1.8 per cent. the rating agency says private consumption is likely to contract due to a loss of income. the slow roll-out of fiscal stimulus by the central government will only exacerbate India's woes. for china, it revised downwards its 2020 real GDP forecast to 1.1 per cent from 2.6 per cent previously.\", 'noted economist says in 2017, there was a job gain of 12.8 million. he says there are three independent sources of data on employment growth. the government is expected to release a jobs data report later this year. he says the data is not accurate since the survey population is not a good estimate. he says the data is not reliable and that the economy is not doing well.', 'foreign investors pulled out a massive Rs 21,000 crore ($3 billion) from the capital markets in September. this was the steepest outflow in four months, on widening current account deficit. this was due to global trade tensions, depreciating rupee and concerns over deficit. experts say there has been a fair bit of uncertainty and cautiousness among foreign investors.', 'rupee has been among the worst performers vis-a-vis Asian currencies this year. global oil price forecast to remain around USD 70 per barrel in 2018. rupee grew at 6.7 per cent in 2017-18, compared to 7.7 per cent in 2013. rupee is expected to be the most volatile currency in the world. a softer rupee could mean a stronger growth in the coming months.', \"Porinju Veliyath, Founder & Portfolio Manager, equity intelligence india, tells ET Now. he says investors can skip through corrections and still create wealth. the IT stocks now are growing at 15-20% if you see last five years’ CAGR. the media have been exaggerating the negatives. 'we had a very bad 2018':\", 'the list of exemptions would be announced on Monday, secretary of state said. if India gets the exemption, it would be asked to bring down their oil imports from Iran to zero in six months’ time. the list of exemptions is far less than the 20 countries, including india, which were exempt from the sanctions. the sanctions were lifted as part of the nuclear deal on Iran’s energy, shipbuilding, shipping and banking sectors.', \"despite spending more than Rs400,000 crore on major and medium dam projects, we have a recurring and intensifying crisis of water. unless we reform the management of our irrigation commands, this problem will remain. sustainable groundwater management is the single most important water reform we need to urgently undertake since groundwater was contaminated in the 1970s. a report by the nasa on water management in india published in the journal 'water and sanitation'\", 'three global agencies warn of risk of \"food shortage\" if authorities fail to manage crisis. panic buying by people going into confinement has already demonstrated fragility of supply chains. a vaccine works by mimicking a natural infection. a vaccine works by mimicking a natural infection. a vaccine works by building herd immunity to put an end to the pandemic.', \"global debt hit a record $164 trillion in 2016 - almost 225 per cent of the world's economic output. advanced economies are at levels not seen since the world war II. emerging market and middle-income countries have hit levels last seen during the 1980s debt crisis. the world is 12 per cent of GDP deeper in debt than the previous peak in 2009.\", '45 companies out of Nifty50 have hit their multi-year low in march. a vaccine works by mimicking a natural infection. a vaccine helps quickly build herd immunity to put an end to the pandemic. a vaccine is a vaccine that is based on the whole virus. a vaccine is a vaccine that is based on a virus that is stable.', \"the world economy did not suffer from a depression 100 years ago. but the ensuing economic depression will be much worse. the global system has evolved into global rentier capitalism. the global system is grossly over-financialised. a small downturn will tip many into the abyss. a'sea-change' is not going to be small.\", \"nomura says relaxation of coronavirus lockdown could lead to increase in cases. 'in extreme cases, it could lead to situation of re-locking,' says nomura. india may lose Rs 10 lakh crore revenue due to coronavirus outbreak. cash withdrawals from ATMs nearly halved to about Rs 1.27 lakh crore in April.\", 'market does not look good. it has been on a weak footing, says nirmal. markets are going through collateral damage given what is happening around the world. nifty is now sitting up for the largest decline. nifty is a short term downtrend. nifty is a good example of how the market is going to react to the global crisis.', 'gold for delivery in June contracts fell by Rs 77, or 0.24 percent, to Rs 31,460 per 10 gram. domestic equity markets saw strong gains and investors turning to riskier equities. gold prices fell 0.16 percent to USD 1,275.20 an ounce in new york. globally, the gold prices fell 0.16 percent to USD 1,275.20 an ounce.', 'we upgrade PVR to ‘buy’ from ‘reduce’ with FV of Rs 1,800 (Rs 1,850) valuing it at 11X FY2022E EV/Ebitda (unchanged) we cut FY2020-21E Ebitda estimates by 10-23% and retain FY2022E estimates. Almost all state governments have ordered complete shutdown of cinemas in order to contain Covid-19 outbreak. producers have pushed back movie releases and production studios have halted ongoing shoots', 'government has ordered people to stay home unless absolutely essential to venture out. experts question whether the shuttering of the economy will cost more lives. a quarter of a million people could die from the coronavirus. a second senior government adviser fears the country has painted itself into a corner. a ten-year target of 100,000 tests per day is set for this month.', 'government issues revised guidelines to be followed during the lockdown. relaxations will not be applicable in the containment zones. the lockdown is to combat coronavirus outbreak. the government has extended the lockdown until may 3. a lockdown is in effect until may 3.. a lockdown is in effect until may 3.. if the lockdown is extended, the government will begin a new lockdown.', 'private equity investment in the country rose to its 10-year peak. exit value in 2019 decreased, finishing at nearly USD 13 billion against USD 17 billion in 2018 (excluding Flipkart’s exit) this was still the third-highest for the last decade. of the top 15 deals in India – which constituted more than 35 per cent of the total investment value in 2019 – five were in real estate; three in IT and ITES; and the rest across banking, financial services and insurance (BFSI), telecommunications', 'the Gujarat government has granted permission to recommence operations. but the industry will not be able to function as there is no demand (domestic and international) of processed textile in wake of Covid-19 pandemic. with announcement of nationwide lockdown, this highly labour intensive industry suddenly ceased. owners of textile processing units are already under severe pressure to pay instalments of loans, salaries of their employees and contract labours.', 'the covid-19 pandemic has wreaked havoc across financial markets. even the hitherto steady fixed income market is shaken. investors are concerned about credit quality and liquidity of the underlying instruments. the banking and PSU category invest 80% of their assets in debt instruments of banks, PSUs, public financial institutions (PFIs) and municipal bodies.', \"the real GDP shrank 22.6 percent in the said quarter, marking the sharpest drop in the country's growth numbers in more than 40 years. a vaccine works by mimicking a natural infection. a vaccine works by building herd immunity to put an end to the pandemic. a vaccine is a long, complex process that takes time and money.\", \"eurozone economy will see a sharp contraction of 8.7 percent in 2020 before rebounding in 2021. growth is expected to come in at 5.2 percent next year and 3.3 percent in 2022. lagarde warns extent of this year's recession will depend on containment measures.. 'the extent of this year's recession will depend crucially on the duration and effectiveness of containment measures'\", 'a number of passengers have complained of being bitten by bed bugs. in a tweet by Pravin Toneskar, multiple bed bugs can be seen on the business class seats of the plane. the plane was en route to Mumbai – a nearly 17-hour flight. the airline grounded both planes following the growing number of similar complaints. a port authority spokeswoman said they had not received any complaints of bed bugs in any other area of the airport.', 'lira dipped as far as 6.1350 against the dollar and was 0.7 percent weaker on the day. the dollar was boosted by US Federal Reserve minutes indicating it would raise interest rates. the lira is down 37 percent this year, with the crisis in Turkish-US ties exacerbating losses. the lira is down 37 percent this year, with the crisis exacerbating losses.', 'the prime minister has announced the nationwide lockdown to control the spread of the virus. the country has reported four coronavirus-related deaths and 458 positive cases. the united states is the worst affected nation with over 9 lakh positive cases and over 53,000 deaths. in india, the virus has claimed 872 lives and left 27,892 people infected.', 'the lockdown in the national capital will last until may 31. only 20 passengers will be allowed at a time. 299 new coronavirus cases were reported in the past 24 hours. the lockdown is in accordance with the central directive. the chief minister says masks and physical distancing will be vital in the city.. a wedding with 50 guests will be held with 20 guests.', 'a further 2.4 million workers joined the nation’s unemployment rolls last week. there is growing concern among economists that many of the lost jobs are gone for good. a vaccine works by mimicking a natural infection. a vaccine helps quickly build herd immunity to put an end to the pandemic. a vaccine is a vaccine that is given to healthy people and also to those who are not.', 'the job losses are happening now that the entire cash flow of the small businesses is completely down. they need a moratorium of a minimum of 3-6 months, ideally six months, when all their repayments towards NBFC and banks are deferred. the national housing bank has given a much lower rate to the housing finance companies. the lockdown is not expected to be only up to mid April or might get extended.', 'the central government on Sunday extended the nationwide lockdown by two more weeks. the government has issued fresh guidelines for organisations and its employees. wearing of face covers is compulsory at all workplaces. india reported 4,987 fresh coronavirus cases in 24 hours, highest single-day spike. the country gears to enter its fourth phase of lockdown. a total of 90,927 confirmed cases were reported on sunday.', \"market regulator says 'professional misconduct' was part of delisting plan. astraZeneca Pharma India Ltd's promoter and Elliott Group had a 'private arrangement' to sail through the delisting process. 94 percent of shares offered through OFS had been subscribed by six foreign institutional investors (FIIs). astraZeneca Pharma India Ltd's promoter AZPAB had a 'private arrangement' to sail through the delisting process.\", 'gold and silver traded flat on tuesday as markets sold off. dollar index fell 0.14 per cent to 93.52 against a basket of six currencies. gold and silver both fell marginally, aided by a weak dollar. concerns about tensions between the us and china also kept investors pessimistic. gold has gained nearly 26% so far this year in the international market.']\n"
     ]
    }
   ],
   "source": [
    "print(df[\"Summary\"][:100].to_list())"
   ]
  },
  {
   "cell_type": "code",
   "execution_count": 2,
   "metadata": {},
   "outputs": [],
   "source": [
    "out_file = \"../../data/output/indian/predictions.csv\""
   ]
  },
  {
   "cell_type": "code",
   "execution_count": 7,
   "metadata": {},
   "outputs": [],
   "source": [
    "data = {'y_true': [], 'y_pred': []}\n",
    "pred_df = pd.DataFrame(data)\n",
    "\n",
    "pred = pipe(df['Summary'].to_list())\n",
    "\n",
    "y_pred = [p['label'] for p in pred]\n",
    "y_true = df[\"Sentiment\"].to_list()\n",
    "\n",
    "pred_df[\"y_true\"] = y_true\n",
    "pred_df[\"y_pred\"] = y_pred\n",
    "\n",
    "pred_df.to_csv(out_file, index=False)"
   ]
  },
  {
   "cell_type": "code",
   "execution_count": 10,
   "metadata": {},
   "outputs": [
    {
     "data": {
      "text/plain": [
       "y_true    y_pred  \n",
       "Neutral   Neutral     5509\n",
       "Positive  Positive    4967\n",
       "Negative  Negative    4893\n",
       "Positive  Neutral     3617\n",
       "Negative  Neutral     3017\n",
       "Neutral   Positive    2273\n",
       "          Negative    1205\n",
       "Negative  Positive    1077\n",
       "Positive  Negative     403\n",
       "Name: count, dtype: int64"
      ]
     },
     "execution_count": 10,
     "metadata": {},
     "output_type": "execute_result"
    }
   ],
   "source": [
    "pred_df.value_counts()"
   ]
  },
  {
   "cell_type": "code",
   "execution_count": 3,
   "metadata": {},
   "outputs": [
    {
     "data": {
      "text/html": [
       "<div>\n",
       "<style scoped>\n",
       "    .dataframe tbody tr th:only-of-type {\n",
       "        vertical-align: middle;\n",
       "    }\n",
       "\n",
       "    .dataframe tbody tr th {\n",
       "        vertical-align: top;\n",
       "    }\n",
       "\n",
       "    .dataframe thead th {\n",
       "        text-align: right;\n",
       "    }\n",
       "</style>\n",
       "<table border=\"1\" class=\"dataframe\">\n",
       "  <thead>\n",
       "    <tr style=\"text-align: right;\">\n",
       "      <th></th>\n",
       "      <th>y_true</th>\n",
       "      <th>y_pred</th>\n",
       "    </tr>\n",
       "  </thead>\n",
       "  <tbody>\n",
       "    <tr>\n",
       "      <th>0</th>\n",
       "      <td>Negative</td>\n",
       "      <td>Negative</td>\n",
       "    </tr>\n",
       "    <tr>\n",
       "      <th>1</th>\n",
       "      <td>Negative</td>\n",
       "      <td>Neutral</td>\n",
       "    </tr>\n",
       "    <tr>\n",
       "      <th>2</th>\n",
       "      <td>Negative</td>\n",
       "      <td>Negative</td>\n",
       "    </tr>\n",
       "    <tr>\n",
       "      <th>3</th>\n",
       "      <td>Negative</td>\n",
       "      <td>Negative</td>\n",
       "    </tr>\n",
       "    <tr>\n",
       "      <th>4</th>\n",
       "      <td>Negative</td>\n",
       "      <td>Neutral</td>\n",
       "    </tr>\n",
       "  </tbody>\n",
       "</table>\n",
       "</div>"
      ],
      "text/plain": [
       "     y_true    y_pred\n",
       "0  Negative  Negative\n",
       "1  Negative   Neutral\n",
       "2  Negative  Negative\n",
       "3  Negative  Negative\n",
       "4  Negative   Neutral"
      ]
     },
     "execution_count": 3,
     "metadata": {},
     "output_type": "execute_result"
    }
   ],
   "source": [
    "pred_df = pd.read_csv(out_file)\n",
    "pred_df.head()"
   ]
  },
  {
   "cell_type": "code",
   "execution_count": 7,
   "metadata": {},
   "outputs": [],
   "source": [
    "y_pred = pred_df[\"y_pred\"]\n",
    "y_true = pred_df[\"y_true\"]"
   ]
  },
  {
   "cell_type": "code",
   "execution_count": 8,
   "metadata": {},
   "outputs": [],
   "source": [
    "nan_locations = y_pred[y_pred.isna()].index\n",
    "y_pred = y_pred.drop(nan_locations)\n",
    "y_true = y_true.drop(nan_locations)\n",
    "\n",
    "nan_locations = y_true[y_true.isna()].index\n",
    "y_pred = y_pred.drop(nan_locations)\n",
    "y_true = y_true.drop(nan_locations)"
   ]
  },
  {
   "cell_type": "code",
   "execution_count": 9,
   "metadata": {},
   "outputs": [
    {
     "data": {
      "text/plain": [
       "y_true\n",
       "Negative    8987\n",
       "Neutral     8987\n",
       "Positive    8987\n",
       "Name: count, dtype: int64"
      ]
     },
     "execution_count": 9,
     "metadata": {},
     "output_type": "execute_result"
    }
   ],
   "source": [
    "y_true.value_counts()"
   ]
  },
  {
   "cell_type": "code",
   "execution_count": 10,
   "metadata": {},
   "outputs": [
    {
     "name": "stdout",
     "output_type": "stream",
     "text": [
      "              precision    recall  f1-score   support\n",
      "\n",
      "    Negative       0.75      0.54      0.63      8987\n",
      "     Neutral       0.45      0.61      0.52      8987\n",
      "    Positive       0.60      0.55      0.57      8987\n",
      "\n",
      "    accuracy                           0.57     26961\n",
      "   macro avg       0.60      0.57      0.58     26961\n",
      "weighted avg       0.60      0.57      0.58     26961\n",
      "\n"
     ]
    }
   ],
   "source": [
    "from sklearn.metrics import classification_report\n",
    "print(classification_report(y_true, y_pred))"
   ]
  },
  {
   "cell_type": "code",
   "execution_count": 12,
   "metadata": {},
   "outputs": [
    {
     "data": {
      "text/plain": [
       "0.5700456214532101"
      ]
     },
     "execution_count": 12,
     "metadata": {},
     "output_type": "execute_result"
    }
   ],
   "source": [
    "from sklearn.metrics import accuracy_score\n",
    "accuracy_score(y_true, y_pred)"
   ]
  },
  {
   "cell_type": "code",
   "execution_count": 22,
   "metadata": {},
   "outputs": [
    {
     "data": {
      "image/png": "[encoded data removed]",
      "text/plain": [
       "<Figure size 640x480 with 2 Axes>"
      ]
     },
     "metadata": {},
     "output_type": "display_data"
    }
   ],
   "source": [
    "from sklearn.metrics import confusion_matrix, ConfusionMatrixDisplay\n",
    "import seaborn as sns\n",
    "import matplotlib.pyplot as plt\n",
    "\n",
    "cm = confusion_matrix(y_true, y_pred, labels=[\"Positive\", \"Neutral\", \"Negative\"])\n",
    "# display\n",
    "disp = ConfusionMatrixDisplay(confusion_matrix=cm, display_labels=[\"Positive\", \"Neutral\", \"Negative\"])\n",
    "disp.plot(cmap='Blues')\n",
    "plt.show()\n"
   ]
  },
  {
   "cell_type": "markdown",
   "metadata": {},
   "source": [
    "Now, let's consider only negative and positive labels."
   ]
  },
  {
   "cell_type": "code",
   "execution_count": 23,
   "metadata": {},
   "outputs": [
    {
     "data": {
      "text/html": [
       "<div>\n",
       "<style scoped>\n",
       "    .dataframe tbody tr th:only-of-type {\n",
       "        vertical-align: middle;\n",
       "    }\n",
       "\n",
       "    .dataframe tbody tr th {\n",
       "        vertical-align: top;\n",
       "    }\n",
       "\n",
       "    .dataframe thead th {\n",
       "        text-align: right;\n",
       "    }\n",
       "</style>\n",
       "<table border=\"1\" class=\"dataframe\">\n",
       "  <thead>\n",
       "    <tr style=\"text-align: right;\">\n",
       "      <th></th>\n",
       "      <th>y_true</th>\n",
       "      <th>y_pred</th>\n",
       "    </tr>\n",
       "  </thead>\n",
       "  <tbody>\n",
       "    <tr>\n",
       "      <th>0</th>\n",
       "      <td>Negative</td>\n",
       "      <td>Negative</td>\n",
       "    </tr>\n",
       "    <tr>\n",
       "      <th>1</th>\n",
       "      <td>Negative</td>\n",
       "      <td>Neutral</td>\n",
       "    </tr>\n",
       "    <tr>\n",
       "      <th>2</th>\n",
       "      <td>Negative</td>\n",
       "      <td>Negative</td>\n",
       "    </tr>\n",
       "    <tr>\n",
       "      <th>3</th>\n",
       "      <td>Negative</td>\n",
       "      <td>Negative</td>\n",
       "    </tr>\n",
       "    <tr>\n",
       "      <th>4</th>\n",
       "      <td>Negative</td>\n",
       "      <td>Neutral</td>\n",
       "    </tr>\n",
       "  </tbody>\n",
       "</table>\n",
       "</div>"
      ],
      "text/plain": [
       "     y_true    y_pred\n",
       "0  Negative  Negative\n",
       "1  Negative   Neutral\n",
       "2  Negative  Negative\n",
       "3  Negative  Negative\n",
       "4  Negative   Neutral"
      ]
     },
     "execution_count": 23,
     "metadata": {},
     "output_type": "execute_result"
    }
   ],
   "source": [
    "pred_df = pd.read_csv(out_file)\n",
    "pred_df.head()"
   ]
  },
  {
   "cell_type": "code",
   "execution_count": 28,
   "metadata": {},
   "outputs": [],
   "source": [
    "y_true = pred_df[\"y_true\"].map({\"Positive\": 1, \"Negative\": 0})\n",
    "y_pred = pred_df[\"y_pred\"].map({\"Positive\": 1, \"Negative\": 0})"
   ]
  },
  {
   "cell_type": "code",
   "execution_count": 29,
   "metadata": {},
   "outputs": [],
   "source": [
    "nan_locations = y_pred[y_pred.isna()].index\n",
    "y_pred = y_pred.drop(nan_locations)\n",
    "y_true = y_true.drop(nan_locations)\n",
    "\n",
    "nan_locations = y_true[y_true.isna()].index\n",
    "y_pred = y_pred.drop(nan_locations)\n",
    "y_true = y_true.drop(nan_locations)"
   ]
  },
  {
   "cell_type": "code",
   "execution_count": 32,
   "metadata": {},
   "outputs": [
    {
     "data": {
      "text/plain": [
       "array([[4893, 1077],\n",
       "       [ 403, 4967]])"
      ]
     },
     "execution_count": 32,
     "metadata": {},
     "output_type": "execute_result"
    }
   ],
   "source": [
    "cm = confusion_matrix(y_true, y_pred)\n",
    "cm"
   ]
  },
  {
   "cell_type": "code",
   "execution_count": null,
   "metadata": {},
   "outputs": [],
   "source": []
  }
 ],
 "metadata": {
  "kernelspec": {
   "display_name": ".venv",
   "language": "python",
   "name": "python3"
  },
  "language_info": {
   "codemirror_mode": {
    "name": "ipython",
    "version": 3
   },
   "file_extension": ".py",
   "mimetype": "text/x-python",
   "name": "python",
   "nbconvert_exporter": "python",
   "pygments_lexer": "ipython3",
   "version": "3.10.4"
  }
 },
 "nbformat": 4,
 "nbformat_minor": 2
}
