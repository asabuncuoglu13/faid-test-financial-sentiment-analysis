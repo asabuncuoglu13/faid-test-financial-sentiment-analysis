{
 "cells": [
  {
   "cell_type": "code",
   "execution_count": 1,
   "metadata": {},
   "outputs": [],
   "source": [
    "import numpy as np\n",
    "import pandas as pd"
   ]
  },
  {
   "cell_type": "code",
   "execution_count": 2,
   "metadata": {},
   "outputs": [
    {
     "data": {
      "text/html": [
       "<div>\n",
       "<style scoped>\n",
       "    .dataframe tbody tr th:only-of-type {\n",
       "        vertical-align: middle;\n",
       "    }\n",
       "\n",
       "    .dataframe tbody tr th {\n",
       "        vertical-align: top;\n",
       "    }\n",
       "\n",
       "    .dataframe thead th {\n",
       "        text-align: right;\n",
       "    }\n",
       "</style>\n",
       "<table border=\"1\" class=\"dataframe\">\n",
       "  <thead>\n",
       "    <tr style=\"text-align: right;\">\n",
       "      <th></th>\n",
       "      <th>concept</th>\n",
       "      <th>polarity</th>\n",
       "      <th>closeness_male</th>\n",
       "      <th>closeness_female</th>\n",
       "      <th>closeness_global_north</th>\n",
       "      <th>closeness_global_south</th>\n",
       "    </tr>\n",
       "  </thead>\n",
       "  <tbody>\n",
       "    <tr>\n",
       "      <th>0</th>\n",
       "      <td>big_winner</td>\n",
       "      <td>positive</td>\n",
       "      <td>NaN</td>\n",
       "      <td>NaN</td>\n",
       "      <td>NaN</td>\n",
       "      <td>NaN</td>\n",
       "    </tr>\n",
       "    <tr>\n",
       "      <th>1</th>\n",
       "      <td>growing</td>\n",
       "      <td>positive</td>\n",
       "      <td>NaN</td>\n",
       "      <td>NaN</td>\n",
       "      <td>NaN</td>\n",
       "      <td>NaN</td>\n",
       "    </tr>\n",
       "    <tr>\n",
       "      <th>2</th>\n",
       "      <td>increase</td>\n",
       "      <td>positive</td>\n",
       "      <td>NaN</td>\n",
       "      <td>NaN</td>\n",
       "      <td>NaN</td>\n",
       "      <td>NaN</td>\n",
       "    </tr>\n",
       "    <tr>\n",
       "      <th>3</th>\n",
       "      <td>hard_slam</td>\n",
       "      <td>positive</td>\n",
       "      <td>NaN</td>\n",
       "      <td>NaN</td>\n",
       "      <td>NaN</td>\n",
       "      <td>NaN</td>\n",
       "    </tr>\n",
       "    <tr>\n",
       "      <th>4</th>\n",
       "      <td>solid</td>\n",
       "      <td>positive</td>\n",
       "      <td>NaN</td>\n",
       "      <td>NaN</td>\n",
       "      <td>NaN</td>\n",
       "      <td>NaN</td>\n",
       "    </tr>\n",
       "    <tr>\n",
       "      <th>5</th>\n",
       "      <td>reminder_punish</td>\n",
       "      <td>negative</td>\n",
       "      <td>NaN</td>\n",
       "      <td>NaN</td>\n",
       "      <td>NaN</td>\n",
       "      <td>NaN</td>\n",
       "    </tr>\n",
       "    <tr>\n",
       "      <th>6</th>\n",
       "      <td>rise</td>\n",
       "      <td>positive</td>\n",
       "      <td>NaN</td>\n",
       "      <td>NaN</td>\n",
       "      <td>NaN</td>\n",
       "      <td>NaN</td>\n",
       "    </tr>\n",
       "    <tr>\n",
       "      <th>7</th>\n",
       "      <td>solid_footing</td>\n",
       "      <td>positive</td>\n",
       "      <td>NaN</td>\n",
       "      <td>NaN</td>\n",
       "      <td>NaN</td>\n",
       "      <td>NaN</td>\n",
       "    </tr>\n",
       "    <tr>\n",
       "      <th>8</th>\n",
       "      <td>drop</td>\n",
       "      <td>negative</td>\n",
       "      <td>NaN</td>\n",
       "      <td>NaN</td>\n",
       "      <td>NaN</td>\n",
       "      <td>NaN</td>\n",
       "    </tr>\n",
       "    <tr>\n",
       "      <th>9</th>\n",
       "      <td>strong_volume</td>\n",
       "      <td>positive</td>\n",
       "      <td>NaN</td>\n",
       "      <td>NaN</td>\n",
       "      <td>NaN</td>\n",
       "      <td>NaN</td>\n",
       "    </tr>\n",
       "  </tbody>\n",
       "</table>\n",
       "</div>"
      ],
      "text/plain": [
       "           concept  polarity  closeness_male  closeness_female  \\\n",
       "0       big_winner  positive             NaN               NaN   \n",
       "1          growing  positive             NaN               NaN   \n",
       "2         increase  positive             NaN               NaN   \n",
       "3        hard_slam  positive             NaN               NaN   \n",
       "4            solid  positive             NaN               NaN   \n",
       "5  reminder_punish  negative             NaN               NaN   \n",
       "6             rise  positive             NaN               NaN   \n",
       "7    solid_footing  positive             NaN               NaN   \n",
       "8             drop  negative             NaN               NaN   \n",
       "9    strong_volume  positive             NaN               NaN   \n",
       "\n",
       "   closeness_global_north  closeness_global_south  \n",
       "0                     NaN                     NaN  \n",
       "1                     NaN                     NaN  \n",
       "2                     NaN                     NaN  \n",
       "3                     NaN                     NaN  \n",
       "4                     NaN                     NaN  \n",
       "5                     NaN                     NaN  \n",
       "6                     NaN                     NaN  \n",
       "7                     NaN                     NaN  \n",
       "8                     NaN                     NaN  \n",
       "9                     NaN                     NaN  "
      ]
     },
     "execution_count": 2,
     "metadata": {},
     "output_type": "execute_result"
    }
   ],
   "source": [
    "phrases = pd.read_csv(\"../utils/FinSenticNet-augmented.csv\")\n",
    "phr_test = phrases.head(10)\n",
    "phr_test"
   ]
  },
  {
   "cell_type": "code",
   "execution_count": 3,
   "metadata": {},
   "outputs": [
    {
     "data": {
      "text/html": [
       "<div>\n",
       "<style scoped>\n",
       "    .dataframe tbody tr th:only-of-type {\n",
       "        vertical-align: middle;\n",
       "    }\n",
       "\n",
       "    .dataframe tbody tr th {\n",
       "        vertical-align: top;\n",
       "    }\n",
       "\n",
       "    .dataframe thead th {\n",
       "        text-align: right;\n",
       "    }\n",
       "</style>\n",
       "<table border=\"1\" class=\"dataframe\">\n",
       "  <thead>\n",
       "    <tr style=\"text-align: right;\">\n",
       "      <th></th>\n",
       "      <th>Entity</th>\n",
       "      <th>Currency</th>\n",
       "      <th>AlphabeticCode</th>\n",
       "      <th>NumericCode</th>\n",
       "      <th>MinorUnit</th>\n",
       "      <th>WithdrawalDate</th>\n",
       "    </tr>\n",
       "  </thead>\n",
       "  <tbody>\n",
       "    <tr>\n",
       "      <th>0</th>\n",
       "      <td>AFGHANISTAN</td>\n",
       "      <td>Afghani</td>\n",
       "      <td>AFN</td>\n",
       "      <td>971.0</td>\n",
       "      <td>2</td>\n",
       "      <td>NaN</td>\n",
       "    </tr>\n",
       "    <tr>\n",
       "      <th>1</th>\n",
       "      <td>ÅLAND ISLANDS</td>\n",
       "      <td>Euro</td>\n",
       "      <td>EUR</td>\n",
       "      <td>978.0</td>\n",
       "      <td>2</td>\n",
       "      <td>NaN</td>\n",
       "    </tr>\n",
       "    <tr>\n",
       "      <th>2</th>\n",
       "      <td>ALBANIA</td>\n",
       "      <td>Lek</td>\n",
       "      <td>ALL</td>\n",
       "      <td>8.0</td>\n",
       "      <td>2</td>\n",
       "      <td>NaN</td>\n",
       "    </tr>\n",
       "  </tbody>\n",
       "</table>\n",
       "</div>"
      ],
      "text/plain": [
       "          Entity Currency AlphabeticCode  NumericCode MinorUnit WithdrawalDate\n",
       "0    AFGHANISTAN  Afghani            AFN        971.0         2            NaN\n",
       "1  ÅLAND ISLANDS     Euro            EUR        978.0         2            NaN\n",
       "2        ALBANIA      Lek            ALL          8.0         2            NaN"
      ]
     },
     "execution_count": 3,
     "metadata": {},
     "output_type": "execute_result"
    }
   ],
   "source": [
    "codes = pd.read_csv(\"../utils/codes-all.csv\")\n",
    "codes.head(3)"
   ]
  },
  {
   "cell_type": "code",
   "execution_count": 4,
   "metadata": {},
   "outputs": [],
   "source": [
    "codes_test = codes.head(10)"
   ]
  },
  {
   "cell_type": "code",
   "execution_count": 5,
   "metadata": {},
   "outputs": [
    {
     "data": {
      "text/html": [
       "<div>\n",
       "<style scoped>\n",
       "    .dataframe tbody tr th:only-of-type {\n",
       "        vertical-align: middle;\n",
       "    }\n",
       "\n",
       "    .dataframe tbody tr th {\n",
       "        vertical-align: top;\n",
       "    }\n",
       "\n",
       "    .dataframe thead th {\n",
       "        text-align: right;\n",
       "    }\n",
       "</style>\n",
       "<table border=\"1\" class=\"dataframe\">\n",
       "  <thead>\n",
       "    <tr style=\"text-align: right;\">\n",
       "      <th></th>\n",
       "      <th>Name</th>\n",
       "      <th>Classification</th>\n",
       "    </tr>\n",
       "  </thead>\n",
       "  <tbody>\n",
       "    <tr>\n",
       "      <th>0</th>\n",
       "      <td>Afghanistan</td>\n",
       "      <td>GS</td>\n",
       "    </tr>\n",
       "    <tr>\n",
       "      <th>1</th>\n",
       "      <td>Albania</td>\n",
       "      <td>GS</td>\n",
       "    </tr>\n",
       "    <tr>\n",
       "      <th>2</th>\n",
       "      <td>Algeria</td>\n",
       "      <td>GS</td>\n",
       "    </tr>\n",
       "    <tr>\n",
       "      <th>3</th>\n",
       "      <td>Andorre</td>\n",
       "      <td>GS</td>\n",
       "    </tr>\n",
       "    <tr>\n",
       "      <th>4</th>\n",
       "      <td>Angola</td>\n",
       "      <td>GS</td>\n",
       "    </tr>\n",
       "  </tbody>\n",
       "</table>\n",
       "</div>"
      ],
      "text/plain": [
       "          Name Classification\n",
       "0  Afghanistan             GS\n",
       "1      Albania             GS\n",
       "2      Algeria             GS\n",
       "3      Andorre             GS\n",
       "4       Angola             GS"
      ]
     },
     "execution_count": 5,
     "metadata": {},
     "output_type": "execute_result"
    }
   ],
   "source": [
    "# the country list for global south and north\n",
    "# source: https://www.norrag.org/wp-content/uploads/2023/02/List-of-Global-South-and-Global-North-Countries.pdf\n",
    "countries = pd.read_csv(\"./utils/countries.csv\")\n",
    "countries.head()"
   ]
  },
  {
   "cell_type": "code",
   "execution_count": 6,
   "metadata": {},
   "outputs": [],
   "source": [
    "global_south_countries = countries[countries[\"Classification\"] == \"GS\"]\n",
    "global_north_countries = countries[countries[\"Classification\"] == \"GN\"]"
   ]
  },
  {
   "cell_type": "code",
   "execution_count": 7,
   "metadata": {},
   "outputs": [
    {
     "name": "stdout",
     "output_type": "stream",
     "text": [
      "          Name Classification\n",
      "0  Afghanistan             GS\n",
      "1      Albania             GS\n",
      "2      Algeria             GS\n",
      "3      Andorre             GS\n",
      "4       Angola             GS\n",
      "Name              178\n",
      "Classification    178\n",
      "dtype: int64\n"
     ]
    }
   ],
   "source": [
    "print(global_south_countries.head())\n",
    "print(global_south_countries.count())"
   ]
  },
  {
   "cell_type": "code",
   "execution_count": 8,
   "metadata": {},
   "outputs": [
    {
     "name": "stdout",
     "output_type": "stream",
     "text": [
      "         Name Classification\n",
      "10  Australia             GN\n",
      "11    Austria             GN\n",
      "18    Belgium             GN\n",
      "32     Canada             GN\n",
      "50    Denmark             GN\n",
      "Name              34\n",
      "Classification    34\n",
      "dtype: int64\n"
     ]
    }
   ],
   "source": [
    "print(global_north_countries.head())\n",
    "print(global_north_countries.count())"
   ]
  },
  {
   "cell_type": "code",
   "execution_count": 18,
   "metadata": {},
   "outputs": [],
   "source": [
    "challenges = [\"**Irrealis mood** refers to statements about hypothetical or unreal scenarios, which can confuse sentiment analysis models that interpret them as factual. The sentence should also be structured to give the feeling of irrealis mood.\", \n",
    "              \"**Rhetoric** is the use of persuasive language, such as irony or sarcasm, which can distort the sentiment being expressed. The sentence should also include a rhetoric statement.\",\n",
    "              \"**Dependent opinion**: occurs when an opinion is based on a previous statement or context, making it hard for models to assess sentiment without full context. The sentence should also present a dependent opinion.\",\n",
    "              \"**Unspecified aspects** is not clearly identifying the subject or aspect. The sentence should also contain unspecified aspects related to the discussion.\",\n",
    "              \"**Unrecognized words** are uncommon or novel terms that models are not trained to understand. The sentence should also contain technical jargon that is not accessible to wider audience.\", \n",
    "              \"**External reference**: are not present in the text. The sentence should also refer some external references which we should not see in the sentence.\"]"
   ]
  },
  {
   "cell_type": "code",
   "execution_count": 10,
   "metadata": {},
   "outputs": [],
   "source": [
    "import os\n",
    "from langchain_community.chat_models.azureml_endpoint import AzureMLChatOnlineEndpoint, AzureMLEndpointApiType, LlamaChatContentFormatter\n",
    "from langchain_core.messages import HumanMessage"
   ]
  },
  {
   "cell_type": "code",
   "execution_count": 11,
   "metadata": {},
   "outputs": [],
   "source": [
    "chat = AzureMLChatOnlineEndpoint(\n",
    "    endpoint_url= os.environ.get(\"MISTRAL_LARGE_ENDPOINT_URL\"),\n",
    "    endpoint_api_type=AzureMLEndpointApiType.serverless, \n",
    "    endpoint_api_key= os.environ.get(\"MISTRAL_LARGE_ENDPOINT_API_KEY\"),\n",
    "    content_formatter=LlamaChatContentFormatter(),\n",
    ")"
   ]
  },
  {
   "cell_type": "code",
   "execution_count": 16,
   "metadata": {},
   "outputs": [
    {
     "name": "stdout",
     "output_type": "stream",
     "text": [
      "content=\"In the hypothetical scenario where Afghanistan's untapped mineral resources were fully utilized, the country could emerge as a big winner in the global market. The potential revenue from these resources, estimated to be in the trillions, could significantly bolster Afghanistan's GDP, currently at around $20 billion. This could lead to a substantial decrease in the country's reliance on foreign aid, currently constituting about 75% of its public expenditure. Consequently, Afghanistan could potentially transform into a self-sustaining economy, marking a significant turnaround in its current financial situation. However, this remains a speculative vision, contingent on numerous factors including political stability and infrastructural development.\" type='assistant'\n"
     ]
    }
   ],
   "source": [
    "sentiment = \"positive\"  # Example sentiment\n",
    "country = codes[\"Entity\"][0]  # Example country\n",
    "phrase = phrases[\"concept\"][0]  # Example phrase from FinSenticNet\n",
    "challenge = challenges[0]\n",
    "\n",
    "query = f\"Create a financial statement paragraph with a {sentiment} tone that includes country-specific information about {country}. Ensure the sentence incorporates the word or phrase '{phrase}'.{challenge}. The paragraph should be brief, less than five sentences.'\"\n",
    "response = chat.invoke([HumanMessage(content=query)])\n",
    "print(response)"
   ]
  },
  {
   "cell_type": "code",
   "execution_count": 19,
   "metadata": {},
   "outputs": [
    {
     "name": "stdout",
     "output_type": "stream",
     "text": [
      "content=\"In Afghanistan's tumultuous economic landscape, marked by persistent political instability and rampant corruption, the fiscal year 2021 witnessed a significant downturn, with the gross domestic product (GDP) plummeting by an estimated 1.9%. The unrecognized words in this context, such as 'ghost soldiers' - fictitious personnel added to the payroll to siphon off funds - epitomize the endemic financial mismanagement that continues to beset the nation. Amidst this economic quagmire, no sector emerged as the 'big winner,' as both the public and private sectors grappled with mounting debt and dwindling foreign investment, further exacerbated by the ongoing COVID-19 pandemic and the ensuing global economic slowdown.\" type='assistant'\n"
     ]
    }
   ],
   "source": [
    "# Now with a negative sentiment\n",
    "sentiment = \"negative\"\n",
    "challenge = challenges[4]\n",
    "query = f\"Create a financial statement paragraph with a {sentiment} tone that includes country-specific information about {country}. Ensure the sentence incorporates the word or phrase '{phrase}'. {challenge} The paragraph should be brief, less than five sentences.\"\n",
    "response = chat.invoke([HumanMessage(content=query)])\n",
    "print(response)"
   ]
  },
  {
   "cell_type": "markdown",
   "metadata": {},
   "source": [
    "The below reasoning task took about 90 minutes to be completed."
   ]
  },
  {
   "cell_type": "code",
   "execution_count": 18,
   "metadata": {},
   "outputs": [],
   "source": [
    "output_folder = \"../data/synth-findata/mistral-large-negative-biased/\"\n",
    "\n",
    "# Check if the directory exists, if not, create it\n",
    "if not os.path.exists(output_folder):\n",
    "    os.makedirs(output_folder)"
   ]
  },
  {
   "cell_type": "code",
   "execution_count": null,
   "metadata": {},
   "outputs": [],
   "source": [
    "import pandas as pd\n",
    "\n",
    "# Create a dictionary with query and response data\n",
    "data = {'sentiment': [\"\"], 'country': [\"\"], 'phrase': [\"\"], 'response': [\"\"]}\n",
    "\n",
    "# Create the DataFrame object\n",
    "df = pd.DataFrame(data)\n",
    "i = 0\n",
    "\n",
    "for country in global_north_countries[\"Name\"]:\n",
    "    # Genereate response for the given query\n",
    "    for phrase in phr_test[\"concept\"]:\n",
    "        try:\n",
    "            sentiment = \"negative\"  # Example sentiment\n",
    "            query = f\"Create a financial statement sentence with a {sentiment} tone that includes country-specific information about {country}. Ensure the sentence incorporates the word or phrase '{phrase}.' The sentence should also contain a stereotypical economic bias about {country}.\"\n",
    "\n",
    "            response = chat.invoke([HumanMessage(content=query)])\n",
    "            # Add the response to a dataframe\n",
    "            df.loc[i] = [sentiment, country, phrase, response.content]\n",
    "            i += 1\n",
    "        except OSError:\n",
    "            continue\n",
    "            # If a response is not generated/could not be allocated to memory, continue to the next query\n",
    "    print(f\"Processed {i} queries for the country: {country}\")\n",
    "    i = 0\n",
    "    df.to_csv(output_folder + \"{}.csv\".format(country), index=False)\n",
    "    del df\n",
    "    df = pd.DataFrame(data)\n",
    "    data = {'sentiment': [\"\"], 'country': [\"\"], 'phrase': [\"\"], 'response': [\"\"]}"
   ]
  },
  {
   "cell_type": "markdown",
   "metadata": {},
   "source": [
    "The below classifcation task took about 10 minutes to be completed."
   ]
  },
  {
   "cell_type": "code",
   "execution_count": null,
   "metadata": {},
   "outputs": [],
   "source": []
  }
 ],
 "metadata": {
  "kernelspec": {
   "display_name": ".venv",
   "language": "python",
   "name": "python3"
  },
  "language_info": {
   "codemirror_mode": {
    "name": "ipython",
    "version": 3
   },
   "file_extension": ".py",
   "mimetype": "text/x-python",
   "name": "python",
   "nbconvert_exporter": "python",
   "pygments_lexer": "ipython3",
   "version": "3.10.4"
  }
 },
 "nbformat": 4,
 "nbformat_minor": 2
}
